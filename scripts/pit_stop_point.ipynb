{
 "cells": [
  {
   "cell_type": "code",
   "execution_count": 38,
   "metadata": {},
   "outputs": [],
   "source": [
    "import json\n",
    "import pickle\n",
    "import numpy as np"
   ]
  },
  {
   "cell_type": "code",
   "execution_count": 17,
   "metadata": {},
   "outputs": [],
   "source": [
    "\n",
    "  \n",
    "# Opening JSON file\n",
    "f = open('PIT.json')\n"
   ]
  },
  {
   "cell_type": "code",
   "execution_count": 18,
   "metadata": {},
   "outputs": [],
   "source": [
    "data = json.load(f)"
   ]
  },
  {
   "cell_type": "code",
   "execution_count": 35,
   "metadata": {},
   "outputs": [],
   "source": [
    "runes = []"
   ]
  },
  {
   "cell_type": "code",
   "execution_count": 36,
   "metadata": {},
   "outputs": [],
   "source": [
    "for i in data:\n",
    "    runes.append(i['timeline'][1]['robot_rune'])\n",
    "    # print(i['timeline'][1]['data']['valence'])\n",
    "    # print(i['timeline'][1]['data']['action'])\n",
    "    # print(i['timeline'][1]['data']['sham'])"
   ]
  },
  {
   "cell_type": "code",
   "execution_count": 41,
   "metadata": {},
   "outputs": [
    {
     "name": "stdout",
     "output_type": "stream",
     "text": [
      "['Z', 'R', 'B', 'J', 'B', 'J', 'Z', 'R', 'B', 'Z', 'R', 'J', 'J', 'B', 'R', 'Z', 'Z', 'B', 'R', 'J', 'R', 'J', 'B', 'Z', 'B', 'R', 'Z', 'J', 'R', 'Z', 'J', 'B', 'B', 'J', 'R', 'Z', 'Z', 'R', 'J', 'B', 'R', 'B', 'J', 'Z', 'R', 'Z', 'B', 'J', 'R', 'B', 'Z', 'J', 'Z', 'R', 'J', 'B', 'R', 'B', 'Z', 'J', 'Z', 'B', 'R', 'J', 'J', 'Z', 'R', 'B', 'Z', 'J', 'B', 'R', 'Z', 'J', 'R', 'B', 'Z', 'B', 'J', 'R', 'J', 'R', 'Z', 'B', 'B', 'J', 'R', 'Z', 'Z', 'B', 'J', 'R', 'J', 'Z', 'B', 'R', 'Z', 'R', 'J', 'B', 'J', 'R', 'B', 'Z', 'R', 'B', 'J', 'Z', 'R', 'J', 'B', 'Z', 'B', 'J', 'R', 'Z', 'Z', 'R', 'B', 'J', 'G', 'N', 'I', 'O', 'O', 'G', 'I', 'N', 'O', 'N', 'G', 'I', 'G', 'O', 'I', 'N', 'I', 'N', 'G', 'O', 'I', 'O', 'N', 'G', 'I', 'O', 'G', 'N', 'N', 'I', 'O', 'G', 'I', 'N', 'G', 'O', 'I', 'N', 'O', 'G', 'I', 'N', 'O', 'G', 'G', 'I', 'N', 'O', 'N', 'G', 'I', 'O', 'O', 'N', 'I', 'G', 'O', 'G', 'I', 'N', 'I', 'G', 'N', 'O', 'I', 'O', 'N', 'G', 'G', 'N', 'O', 'I', 'G', 'O', 'I', 'N', 'I', 'N', 'O', 'G', 'G', 'N', 'I', 'O', 'N', 'O', 'I', 'G', 'O', 'G', 'I', 'N', 'O', 'G', 'N', 'I', 'O', 'G', 'N', 'I', 'I', 'N', 'O', 'G', 'G', 'I', 'N', 'O', 'O', 'I', 'G', 'N', 'G', 'N', 'O', 'I', 'N', 'G', 'I', 'O']\n"
     ]
    }
   ],
   "source": [
    "print(runes)\n"
   ]
  },
  {
   "cell_type": "code",
   "execution_count": null,
   "metadata": {},
   "outputs": [],
   "source": []
  }
 ],
 "metadata": {
  "kernelspec": {
   "display_name": "Python 3",
   "language": "python",
   "name": "python3"
  },
  "language_info": {
   "codemirror_mode": {
    "name": "ipython",
    "version": 3
   },
   "file_extension": ".py",
   "mimetype": "text/x-python",
   "name": "python",
   "nbconvert_exporter": "python",
   "pygments_lexer": "ipython3",
   "version": "3.9.6"
  },
  "orig_nbformat": 4,
  "vscode": {
   "interpreter": {
    "hash": "31f2aee4e71d21fbe5cf8b01ff0e069b9275f58929596ceb00d14d90e3e16cd6"
   }
  }
 },
 "nbformat": 4,
 "nbformat_minor": 2
}
