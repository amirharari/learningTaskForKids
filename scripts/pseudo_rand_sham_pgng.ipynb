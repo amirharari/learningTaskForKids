{
 "cells": [
  {
   "cell_type": "code",
   "execution_count": 2,
   "metadata": {},
   "outputs": [],
   "source": [
    "import os, sys\n",
    "import numpy as np\n",
    "from tqdm import tqdm\n",
    "\n"
   ]
  },
  {
   "cell_type": "code",
   "execution_count": 14,
   "metadata": {},
   "outputs": [],
   "source": [
    "robots= np.array([[2,0,1,2],\n",
    " [1,2,2,0],\n",
    " [0,1,2,2],\n",
    " [1,2,2,0],\n",
    " [1,2,2,0],\n",
    " [2,1,0,2],\n",
    " [2,2,1,0],\n",
    " [2,1,2,0],\n",
    " [2,2,0,1],\n",
    " [2,1,0,2],\n",
    " [0,1,2,2],\n",
    " [1,2,2,0],\n",
    " [2,2,0,1],\n",
    " [2,1,2,0],\n",
    " [2,3,1,0],\n",
    " [3,1,2,0],\n",
    " [3,1,0,3],\n",
    " [1,0,3,3],\n",
    " [3,0,1,3],\n",
    " [1,0,3,3],\n",
    " [0,3,3,1],\n",
    " [0,3,3,1],\n",
    " [3,1,3,0],\n",
    " [3,0,3,1],\n",
    " [3,3,0,1],\n",
    " [3,0,1,3],\n",
    " [0,1,3,3],\n",
    " [0,1,3,3],\n",
    " [0,1,3,3],\n",
    " [3,1,0,3]])\n",
    "\n",
    "stimuli=np.array([[0,1,2,3],\n",
    " [2,3,0,1],\n",
    " [1,2,0,3],\n",
    " [2,3,0,1],\n",
    " [2,3,0,1],\n",
    " [3,2,1,0],\n",
    " [3,0,2,1],\n",
    " [3,2,0,1],\n",
    " [3,0,1,2],\n",
    " [0,2,1,3],\n",
    " [1,2,3,0],\n",
    " [2,0,3,1],\n",
    " [0,3,1,2],\n",
    " [0,2,3,1],\n",
    " [3,4,5,1],\n",
    " [4,5,3,1],\n",
    " [6,5,7,4],\n",
    " [5,7,4,6],\n",
    " [4,7,5,6],\n",
    " [5,7,6,4],\n",
    " [7,4,6,5],\n",
    " [7,6,4,5],\n",
    " [4,5,6,7],\n",
    " [4,7,6,5],\n",
    " [4,6,7,5],\n",
    " [6,7,5,4],\n",
    " [7,5,6,4],\n",
    " [7,5,6,4],\n",
    " [7,5,4,6],\n",
    " [6,5,7,4]])\n",
    "\n"
   ]
  },
  {
   "cell_type": "code",
   "execution_count": 32,
   "metadata": {},
   "outputs": [],
   "source": [
    "sham = np.zeros((30,4))\n",
    "\n",
    "for i in range(26):\n",
    "    sham[i,0]=1\n",
    "\n",
    "\n"
   ]
  },
  {
   "cell_type": "code",
   "execution_count": 70,
   "metadata": {},
   "outputs": [
    {
     "name": "stderr",
     "output_type": "stream",
     "text": [
      " 91%|█████████▏| 913805/1000000 [01:41<00:09, 8969.27it/s]\n"
     ]
    },
    {
     "ename": "KeyboardInterrupt",
     "evalue": "",
     "output_type": "error",
     "traceback": [
      "\u001b[0;31m---------------------------------------------------------------------------\u001b[0m",
      "\u001b[0;31mKeyboardInterrupt\u001b[0m                         Traceback (most recent call last)",
      "Cell \u001b[0;32mIn[70], line 32\u001b[0m\n\u001b[1;32m     23\u001b[0m np\u001b[39m.\u001b[39mrandom\u001b[39m.\u001b[39mshuffle(sham_t)\n\u001b[1;32m     26\u001b[0m \u001b[39m# check that every robot type has the same amount of sham\u001b[39;00m\n\u001b[1;32m     27\u001b[0m \n\u001b[1;32m     28\u001b[0m \u001b[39m# check that every stimulus has the same amount of sham\u001b[39;00m\n\u001b[1;32m     29\u001b[0m \n\u001b[1;32m     30\u001b[0m \u001b[39m# check that every quartile has the same number of sham\u001b[39;00m\n\u001b[0;32m---> 32\u001b[0m \u001b[39mif\u001b[39;00m check_distribution_robots(sham_t\u001b[39m.\u001b[39;49mT, robots):\n\u001b[1;32m     33\u001b[0m     \u001b[39mbreak\u001b[39;00m\n",
      "Cell \u001b[0;32mIn[70], line 10\u001b[0m, in \u001b[0;36mcheck_distribution_robots\u001b[0;34m(sham, robots)\u001b[0m\n\u001b[1;32m      8\u001b[0m \u001b[39mfor\u001b[39;00m num \u001b[39min\u001b[39;00m \u001b[39mrange\u001b[39m(unique_numbers):\n\u001b[1;32m      9\u001b[0m     mask \u001b[39m=\u001b[39m (robots \u001b[39m==\u001b[39m num)\n\u001b[0;32m---> 10\u001b[0m     zeros\u001b[39m.\u001b[39mappend(np\u001b[39m.\u001b[39;49msum(sham[mask] \u001b[39m==\u001b[39;49m \u001b[39m0\u001b[39;49m))\n\u001b[1;32m     11\u001b[0m     ones\u001b[39m.\u001b[39mappend(np\u001b[39m.\u001b[39msum(sham[mask] \u001b[39m==\u001b[39m \u001b[39m1\u001b[39m))\n\u001b[1;32m     13\u001b[0m \u001b[39mif\u001b[39;00m np\u001b[39m.\u001b[39mequal(zeros, n_zeros)\u001b[39m.\u001b[39mall():\n",
      "File \u001b[0;32m<__array_function__ internals>:180\u001b[0m, in \u001b[0;36msum\u001b[0;34m(*args, **kwargs)\u001b[0m\n",
      "File \u001b[0;32m~/Library/Python/3.9/lib/python/site-packages/numpy/core/fromnumeric.py:2298\u001b[0m, in \u001b[0;36msum\u001b[0;34m(a, axis, dtype, out, keepdims, initial, where)\u001b[0m\n\u001b[1;32m   2295\u001b[0m         \u001b[39mreturn\u001b[39;00m out\n\u001b[1;32m   2296\u001b[0m     \u001b[39mreturn\u001b[39;00m res\n\u001b[0;32m-> 2298\u001b[0m \u001b[39mreturn\u001b[39;00m _wrapreduction(a, np\u001b[39m.\u001b[39;49madd, \u001b[39m'\u001b[39m\u001b[39msum\u001b[39m\u001b[39m'\u001b[39m, axis, dtype, out, keepdims\u001b[39m=\u001b[39mkeepdims,\n\u001b[1;32m   2299\u001b[0m                       initial\u001b[39m=\u001b[39minitial, where\u001b[39m=\u001b[39mwhere)\n",
      "\u001b[0;31mKeyboardInterrupt\u001b[0m: "
     ]
    }
   ],
   "source": [
    "def check_distribution_robots(sham, robots):\n",
    "    unique_numbers = 4 #np.unique(robots)\n",
    "    n_zeros = 24\n",
    "    \n",
    "    zeros = []\n",
    "    ones = []\n",
    "\n",
    "    for num in range(unique_numbers):\n",
    "        mask = (robots == num)\n",
    "        zeros.append(np.sum(sham[mask] == 0))\n",
    "        ones.append(np.sum(sham[mask] == 1))\n",
    "        \n",
    "    if np.equal(zeros, n_zeros).all():\n",
    "        return True\n",
    "    \n",
    "    return False\n",
    "\n",
    "\n",
    "for _ in tqdm(range(int(1e6))):\n",
    "\n",
    "    np.random.shuffle(sham)\n",
    "    sham_t = sham.T\n",
    "    np.random.shuffle(sham_t)\n",
    "    \n",
    "\n",
    "    # check that every robot type has the same amount of sham\n",
    "\n",
    "    # check that every stimulus has the same amount of sham\n",
    "    \n",
    "    # check that every quartile has the same number of sham\n",
    "\n",
    "    if check_distribution_robots(sham_t.T, robots):\n",
    "        break\n",
    "\n",
    "    \n",
    "    "
   ]
  },
  {
   "cell_type": "code",
   "execution_count": null,
   "metadata": {},
   "outputs": [],
   "source": []
  },
  {
   "cell_type": "code",
   "execution_count": null,
   "metadata": {},
   "outputs": [],
   "source": []
  }
 ],
 "metadata": {
  "kernelspec": {
   "display_name": "Python 3",
   "language": "python",
   "name": "python3"
  },
  "language_info": {
   "codemirror_mode": {
    "name": "ipython",
    "version": 3
   },
   "file_extension": ".py",
   "mimetype": "text/x-python",
   "name": "python",
   "nbconvert_exporter": "python",
   "pygments_lexer": "ipython3",
   "version": "3.9.6"
  },
  "orig_nbformat": 4,
  "vscode": {
   "interpreter": {
    "hash": "31f2aee4e71d21fbe5cf8b01ff0e069b9275f58929596ceb00d14d90e3e16cd6"
   }
  }
 },
 "nbformat": 4,
 "nbformat_minor": 2
}
